{
 "cells": [
  {
   "cell_type": "code",
   "execution_count": 28,
   "metadata": {},
   "outputs": [],
   "source": [
    "import numpy as np\n",
    "import sklearn\n",
    "from sklearn.datasets import load_iris\n",
    "from sklearn.tree import DecisionTreeClassifier\n",
    "from sklearn.metrics import(accuracy_score, precision_score,recall_score,f1_score,log_loss)\n",
    "from sklearn.model_selection import (train_test_split, cross_validate, GridSearchCV)\n"
   ]
  },
  {
   "cell_type": "code",
   "execution_count": 29,
   "metadata": {},
   "outputs": [
    {
     "name": "stdout",
     "output_type": "stream",
     "text": [
      "train - accy = 1.0\n",
      "test - accy = 0.9666666666666667\n"
     ]
    }
   ],
   "source": [
    "X,y=sklearn.datasets.load_iris(return_X_y=True)\n",
    "X_train,X_test,y_train,y_test=train_test_split(X,y,test_size=0.2,random_state=1)\n",
    "clf = DecisionTreeClassifier()\n",
    "parms = {'max_depth': range(1,10), 'criterion':['gini','entropy']}\n",
    "clf.fit(X_train,y_train)\n",
    "print(f'train - accy = {accuracy_score(y_train,clf.predict(X_train))}')\n",
    "print(f'test - accy = {accuracy_score(y_test,clf.predict(X_test))}')"
   ]
  },
  {
   "cell_type": "code",
   "execution_count": null,
   "metadata": {},
   "outputs": [],
   "source": []
  },
  {
   "cell_type": "code",
   "execution_count": null,
   "metadata": {},
   "outputs": [],
   "source": []
  }
 ],
 "metadata": {
  "kernelspec": {
   "display_name": "Python 3",
   "language": "python",
   "name": "python3"
  },
  "language_info": {
   "codemirror_mode": {
    "name": "ipython",
    "version": 3
   },
   "file_extension": ".py",
   "mimetype": "text/x-python",
   "name": "python",
   "nbconvert_exporter": "python",
   "pygments_lexer": "ipython3",
   "version": "3.6.4"
  }
 },
 "nbformat": 4,
 "nbformat_minor": 2
}
